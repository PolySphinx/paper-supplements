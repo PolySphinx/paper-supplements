{
 "cells": [
  {
   "cell_type": "code",
   "execution_count": 1,
   "metadata": {},
   "outputs": [],
   "source": [
    "from simulation.notebook_utils import *\n",
    "from simulation.utils import *\n",
    "\n",
    "import busybee"
   ]
  },
  {
   "cell_type": "code",
   "execution_count": 2,
   "metadata": {},
   "outputs": [],
   "source": [
    "# [!] CHANGE `24` to `1` for shorter simulations\n",
    "SIM_TIME_MS = 24 * 3_600 * 1_000\n",
    "\n",
    "#\n",
    "# Global config for both ONLINE and OFFLINE\n",
    "#\n",
    "\n",
    "DEFAULT_CONFIG = NotebookSimulationConfig(\n",
    "    loopix_kwargs= {\n",
    "        'user_rate_pull': 1,\n",
    "        'user_rate_payload': 2,\n",
    "        'user_rate_drop': 2,\n",
    "        'user_rate_loop': 2,\n",
    "        'user_rate_delay': 3,\n",
    "        'mix_rate_loop': 2,\n",
    "        'mix_rate_loop_delay':3,\n",
    "    },\n",
    "    app_kwargs= {\n",
    "        'init_rate_per_second': 1/30,\n",
    "        'multi_message': 1,\n",
    "        'heavy_user_percentage': 20,\n",
    "        'heavy_user_weight': 4,\n",
    "    }\n",
    ")\n",
    "\n",
    "SLOW_RATE = 1/30\n",
    "\n",
    "CONFIG_NAMES_TO_CONFIGS = {\n",
    "    'rs': DEFAULT_CONFIG.derive_new(\n",
    "        delta_app_kwargs = {\n",
    "            'init_rate_per_second': SLOW_RATE,\n",
    "            'multi_message': 1,\n",
    "        }),\n",
    "    'baseline': DEFAULT_CONFIG.derive_new(\n",
    "        delta_loopix_kwargs = {\n",
    "            'round_multiplicator': 5,\n",
    "        },\n",
    "        delta_app_kwargs = {\n",
    "            'init_rate_per_second': SLOW_RATE,\n",
    "            'multi_message': 1,\n",
    "        }),\n",
    "    'ps-2': DEFAULT_CONFIG.derive_new(\n",
    "        delta_loopix_kwargs = {\n",
    "            'user_rate_payload': 1.6668563120298376,\n",
    "            'user_rate_drop': 1.6668563120298376,\n",
    "            'user_rate_loop': 1.6668563120298376,\n",
    "        }),\n",
    "    'ps-5': DEFAULT_CONFIG.derive_new(\n",
    "        delta_loopix_kwargs = {\n",
    "            'user_rate_payload': 1.3227983043620035,\n",
    "            'user_rate_drop': 1.3227983043620035,\n",
    "            'user_rate_loop': 1.3227983043620035,\n",
    "        }),\n",
    "}"
   ]
  },
  {
   "cell_type": "code",
   "execution_count": 3,
   "metadata": {},
   "outputs": [
    {
     "name": "stdout",
     "output_type": "stream",
     "text": [
      "Loaded schedules\n"
     ]
    }
   ],
   "source": [
    "DEFAULT_SCHEDULES = ['gen_os10', 'gen_os15', 'gen_os20']\n",
    "\n",
    "all_schedules = {k: read_compressed_bool_schedules(\"input/schedules_%s.txt.gz\" % k) for k in DEFAULT_SCHEDULES}\n",
    "all_schedules['online'] = None\n",
    "print(\"Loaded schedules\")"
   ]
  },
  {
   "cell_type": "code",
   "execution_count": 4,
   "metadata": {},
   "outputs": [],
   "source": [
    "def pickle_to_file(args):\n",
    "    pickle_down({args[0]: args[1]})\n",
    "\n",
    "def create_sims(groupsizes, configs, schedules, strategies):\n",
    "    sims = dict()\n",
    "    for m, group_sizes in groupsizes:\n",
    "\n",
    "        for config_name in configs:\n",
    "            config = CONFIG_NAMES_TO_CONFIGS[config_name]\n",
    "\n",
    "            for schedule_name in schedules:\n",
    "                schedule = all_schedules[schedule_name]\n",
    "\n",
    "                for strategy_name in strategies:\n",
    "                        sim = create_scenario(m, group_sizes, config, strategy_name, SIM_TIME_MS, schedule if schedule else [])\n",
    "                        name = get_name_for_sim(sim, config_name, schedule_name, strategy_name)\n",
    "\n",
    "                        sims[name] = sim\n",
    "                        sim.name = name.replace('.input', '').upper()\n",
    "\n",
    "\n",
    "    _ = busybee.map(pickle_to_file, [(k, v) for k, v in sims.items()], processes=4)\n",
    "    print(\"Saved %d files\" % len(sims))"
   ]
  },
  {
   "cell_type": "code",
   "execution_count": 5,
   "metadata": {},
   "outputs": [
    {
     "name": "stdout",
     "output_type": "stream",
     "text": [
      "BusyBee: Start processing 24 items with 4 processes...\n",
      "BusyBee: 12/24, 50.0% (avg: 0ms cpu, rem: 0.0s)\n",
      "BusyBee: Finished processing 24 items in 0.0s (avg: 0ms cpu)\n",
      "Saved 24 files\n",
      "For secure configuration it should hold that: lambda/mu > 2\n",
      "For secure configuration it should hold that: lambda/mu > 2\n",
      "For secure configuration it should hold that: lambda/mu > 2\n",
      "For secure configuration it should hold that: lambda/mu > 2\n",
      "For secure configuration it should hold that: lambda/mu > 2\n",
      "For secure configuration it should hold that: lambda/mu > 2\n",
      "For secure configuration it should hold that: lambda/mu > 2\n",
      "For secure configuration it should hold that: lambda/mu > 2\n",
      "BusyBee: Start processing 8 items with 4 processes...\n",
      "BusyBee: 4/8, 50.0% (avg: 0ms cpu, rem: 0.0s)\n",
      "BusyBee: Finished processing 8 items in 0.0s (avg: 0ms cpu)\n",
      "Saved 8 files\n",
      "For secure configuration it should hold that: lambda/mu > 2\n",
      "For secure configuration it should hold that: lambda/mu > 2\n",
      "For secure configuration it should hold that: lambda/mu > 2\n",
      "For secure configuration it should hold that: lambda/mu > 2\n",
      "For secure configuration it should hold that: lambda/mu > 2\n",
      "For secure configuration it should hold that: lambda/mu > 2\n",
      "For secure configuration it should hold that: lambda/mu > 2\n",
      "For secure configuration it should hold that: lambda/mu > 2\n",
      "BusyBee: Start processing 8 items with 4 processes...\n",
      "BusyBee: 4/8, 50.0% (avg: 0ms cpu, rem: 0.0s)\n",
      "BusyBee: Finished processing 8 items in 0.0s (avg: 0ms cpu)\n",
      "Saved 8 files\n",
      "BusyBee: Start processing 8 items with 4 processes...\n",
      "BusyBee: 4/8, 50.0% (avg: 0ms cpu, rem: 0.0s)\n",
      "BusyBee: Finished processing 8 items in 0.0s (avg: 0ms cpu)\n",
      "Saved 8 files\n"
     ]
    }
   ],
   "source": [
    "#\n",
    "# ONLINE scenarios\n",
    "#\n",
    "\n",
    "ONLINE_GROUP_SIZES = [\n",
    "    (25, [25]),\n",
    "    (32, [32]),\n",
    "    (45, [45]),\n",
    "    (64, [64]),\n",
    "    (91, [91]),\n",
    "    (128, [128]),\n",
    "    (181, [181]),\n",
    "    (256, [256]),\n",
    "]\n",
    "ONLINE_CONFIGS = ['rs']\n",
    "ONLINE_SCHEDULES = ['online']\n",
    "\n",
    "\n",
    "create_sims(ONLINE_GROUP_SIZES, ['rs'], ONLINE_SCHEDULES, ['unicast', 'rollercoaster-k1-p1-notimeout', 'rollercoaster-k2-p2-notimeout'])\n",
    "create_sims(ONLINE_GROUP_SIZES, ['ps-2'], ONLINE_SCHEDULES, ['polysphinx-p2-l1'])\n",
    "create_sims(ONLINE_GROUP_SIZES, ['ps-5'], ONLINE_SCHEDULES, ['polysphinx-p5-l1'])\n",
    "create_sims(ONLINE_GROUP_SIZES, ['baseline'], ONLINE_SCHEDULES, ['unicast'])"
   ]
  }
 ],
 "metadata": {
  "kernelspec": {
   "display_name": "Python 3",
   "language": "python",
   "name": "python3"
  },
  "language_info": {
   "codemirror_mode": {
    "name": "ipython",
    "version": 3
   },
   "file_extension": ".py",
   "mimetype": "text/x-python",
   "name": "python",
   "nbconvert_exporter": "python",
   "pygments_lexer": "ipython3",
   "version": "3.7.17"
  }
 },
 "nbformat": 4,
 "nbformat_minor": 4
}
